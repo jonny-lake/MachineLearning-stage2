{
 "cells": [
  {
   "cell_type": "code",
   "execution_count": 1,
   "metadata": {},
   "outputs": [],
   "source": [
    "# Group: 41\n",
    "# Members: Jonathan Lake - 43265818, Logan Isaak - 22484174\n",
    "\n",
    "# python library references\n",
    "from PIL import Image\n",
    "import numpy as np\n",
    "from sklearn.multiclass import OneVsRestClassifier\n",
    "from sklearn.metrics import accuracy_score\n",
    "import pandas as pd\n",
    "from sklearn import svm\n",
    "from skimage.feature import hog\n",
    "import os"
   ]
  },
  {
   "cell_type": "code",
   "execution_count": 2,
   "metadata": {},
   "outputs": [],
   "source": [
    "def preprocessingImages(img): # function to preprocess each image using histogram of oriented gradients\n",
    "    # create a flattened features array using histogram of oriented gradients for each image\n",
    "    features = hog(img, orientations=9, pixels_per_cell=(8,8), cells_per_block=(2,2), multichannel=True)\n",
    "    return features # return features array back to main function"
   ]
  },
  {
   "cell_type": "code",
   "execution_count": 3,
   "metadata": {},
   "outputs": [],
   "source": [
    "def training(folder): # function for training the model\n",
    "    # initialize training set greyscale image array\n",
    "    x_train = []\n",
    "    # initialize training set image classes\n",
    "    y_train = []\n",
    "\n",
    "    # for each image in the specified 'folder path', resize and read in training classification, extract feature array\n",
    "    for filename in os.listdir(folder):\n",
    "        # read in image, convert to array, resize to 256x512 pixels\n",
    "        img = np.array(Image.open(os.path.join(folder,filename)).resize((512,256)))\n",
    "        # send each image to the preprocessing function to extract features\n",
    "        features = preprocessingImages(img)\n",
    "        \n",
    "\n",
    "        # classification legend: circle - 1, rectangle - 2, square - 3\n",
    "        # if filename includes 'cir' append classification 1 to the training class array\n",
    "        if \"cir\" in filename:\n",
    "            y_train = np.append(y_train,1)\n",
    "        \n",
    "        # if filename includes 'rec' append classification 2 to the training class array\n",
    "        if \"rec\" in filename:\n",
    "            y_train = np.append(y_train,2)\n",
    "\n",
    "        # if filename includes 'squ' append classification 3 to the training class array\n",
    "        if \"squ\" in filename:\n",
    "            y_train = np.append(y_train,3)\n",
    "\n",
    "        # append feature into an array of arrays\n",
    "        if img.all() is not None:\n",
    "            x_train.append(features)\n",
    "    \n",
    "    # initialize training class array as a numpy array\n",
    "    y_train = np.array(y_train)\n",
    "    # initialize training image array as a numpy array\n",
    "    x_train = np.array(x_train)\n",
    "    \n",
    "    # pass the training features to the one vs rest classifier, using non-linear/polynomial SVC\n",
    "    classifier = OneVsRestClassifier(svm.SVC(kernel='poly', degree=5), n_jobs=3).fit(x_train, y_train)\n",
    "    \n",
    "    # Output to be printed\n",
    "    print(\"Actual Labels:\")\n",
    "    print(y_train)\n",
    "    print(\"Training Labels:\")\n",
    "    print(y_train)\n",
    "    # print confusion matrix for training set\n",
    "    print(\"Confusion Matrix:\")\n",
    "    print(pd.crosstab(y_train,y_train,rownames=['Predicted Y'],colnames=['Training Y']))\n",
    "    # print accuracy for training set\n",
    "    print(\"Accuracy:\", accuracy_score(y_train,y_train)*100, \"%\")\n",
    "\n",
    "    # return the fitted classifier\n",
    "    return classifier"
   ]
  },
  {
   "cell_type": "code",
   "execution_count": 4,
   "metadata": {},
   "outputs": [],
   "source": [
    "def testing(folder, classifier): # function for testing the model\n",
    "        # initialize test set greyscale image array\n",
    "        x_test = []\n",
    "        # initialize test set image classification array\n",
    "        y_pred = []\n",
    "\n",
    "        # for each image in the specified 'folder path', resize and read in testing classification, extract feature array\n",
    "        for filename in os.listdir(folder):\n",
    "            # read in image, convert to array, resize to 256x512 pixels\n",
    "            img = np.array(Image.open(os.path.join(folder,filename)).resize((512,256)))\n",
    "            # send each image to the preprocessing function to extract features\n",
    "            features = preprocessingImages(img)\n",
    "\n",
    "            # if filename includes 'cir' append classification 1 to the training class array\n",
    "            if \"cir\" in filename:\n",
    "                y_pred = np.append(y_pred, 1)\n",
    "\n",
    "            # if filename includes 'rec' append classification 2 to the training class array\n",
    "            elif \"rec\" in filename:\n",
    "                y_pred = np.append(y_pred, 2)\n",
    "            \n",
    "            # if filename includes 'squ' append classification 3 to the training class array\n",
    "            elif \"squ\" in filename:\n",
    "                y_pred = np.append(y_pred, 3)\n",
    "\n",
    "            # append each greyscale image into an array of arrays\n",
    "            if img is not None:\n",
    "                x_test.append(features)\n",
    "\n",
    "        # initialize testing image array as a numpy array\n",
    "        x_test = np.array(x_test)\n",
    "        # evaluate the test set and create test image classification array, y_test\n",
    "        y_test = classifier.predict(x_test)\n",
    "        \n",
    "        # print confusion matrix for test set\n",
    "        print(\"Actual Labels:\")\n",
    "        print(y_pred)\n",
    "        print(\"Testing Labels:\")\n",
    "        print(y_test)\n",
    "        print(\"Confusion Matrix:\")\n",
    "        print(pd.crosstab(y_pred,y_test,rownames=['Predicted Y'],colnames=['Test Y']))\n",
    "        # print accuracy for test set\n",
    "        print(\"Accuracy:\", accuracy_score(y_pred,y_test)*100, \"%\")\n",
    "    \n",
    "        return y_pred, y_test # return actual and predicted values back to the caller"
   ]
  },
  {
   "cell_type": "code",
   "execution_count": 5,
   "metadata": {
    "scrolled": true
   },
   "outputs": [
    {
     "name": "stdout",
     "output_type": "stream",
     "text": [
      "Actual Labels:\n",
      "[1. 1. 1. 1. 1. 1. 1. 1. 1. 1. 1. 1. 1. 1. 1. 1. 1. 1. 1. 1. 1. 1. 1. 1.\n",
      " 1. 1. 1. 2. 2. 2. 2. 2. 2. 2. 2. 2. 2. 2. 2. 2. 2. 2. 2. 2. 2. 2. 2. 2.\n",
      " 2. 2. 2. 2. 2. 2. 3. 3. 3. 3. 3. 3. 3. 3. 3. 3. 3. 3. 3. 3. 3. 3. 3. 3.\n",
      " 3. 3. 3. 3. 3. 3. 3. 3. 3.]\n",
      "Training Labels:\n",
      "[1. 1. 1. 1. 1. 1. 1. 1. 1. 1. 1. 1. 1. 1. 1. 1. 1. 1. 1. 1. 1. 1. 1. 1.\n",
      " 1. 1. 1. 2. 2. 2. 2. 2. 2. 2. 2. 2. 2. 2. 2. 2. 2. 2. 2. 2. 2. 2. 2. 2.\n",
      " 2. 2. 2. 2. 2. 2. 3. 3. 3. 3. 3. 3. 3. 3. 3. 3. 3. 3. 3. 3. 3. 3. 3. 3.\n",
      " 3. 3. 3. 3. 3. 3. 3. 3. 3.]\n",
      "Confusion Matrix:\n",
      "Training Y   1.0  2.0  3.0\n",
      "Predicted Y               \n",
      "1.0           27    0    0\n",
      "2.0            0   27    0\n",
      "3.0            0    0   27\n",
      "Accuracy: 100.0 %\n"
     ]
    }
   ],
   "source": [
    "# set folder path for training images, CHANGE THIS PATH TO RUN FOR EVALUATION\n",
    "trainingPath = 'C:/Users/Jonny Lake/Documents/418/Lego_dataset_2/Lego_dataset_2/training'\n",
    "#trainingPath = 'C:/Users/Jonny Lake/Documents/418/training'\n",
    "# call training function and assign the outputs to variable 'train'\n",
    "classifier = training(trainingPath)"
   ]
  },
  {
   "cell_type": "code",
   "execution_count": 6,
   "metadata": {},
   "outputs": [
    {
     "name": "stdout",
     "output_type": "stream",
     "text": [
      "Actual Labels:\n",
      "[1. 1. 1. 1. 1. 1. 1. 1. 1. 1. 1. 1. 1. 1. 1. 1. 1. 1. 1. 1. 1. 1. 1. 1.\n",
      " 1. 1. 1. 2. 2. 2. 2. 2. 2. 2. 2. 2. 2. 2. 2. 2. 2. 2. 2. 2. 2. 2. 2. 2.\n",
      " 2. 2. 2. 2. 2. 2. 3. 3. 3. 3. 3. 3. 3. 3. 3. 3. 3. 3. 3. 3. 3. 3. 3. 3.\n",
      " 3. 3. 3. 3. 3. 3. 3. 3. 3.]\n",
      "Testing Labels:\n",
      "[1. 1. 1. 1. 1. 1. 1. 1. 1. 1. 1. 1. 1. 1. 1. 1. 1. 1. 1. 1. 1. 3. 1. 1.\n",
      " 1. 3. 3. 2. 2. 2. 2. 2. 2. 2. 2. 2. 2. 2. 2. 2. 2. 2. 2. 2. 2. 2. 2. 2.\n",
      " 2. 2. 3. 2. 2. 2. 3. 3. 3. 1. 3. 3. 3. 3. 3. 3. 3. 3. 3. 3. 3. 3. 2. 1.\n",
      " 1. 2. 3. 3. 3. 1. 3. 3. 3.]\n",
      "Confusion Matrix:\n",
      "Test Y       1.0  2.0  3.0\n",
      "Predicted Y               \n",
      "1.0           24    0    3\n",
      "2.0            0   26    1\n",
      "3.0            4    2   21\n",
      "Accuracy: 87.65432098765432 %\n"
     ]
    }
   ],
   "source": [
    "# set folder path for testing images, CHANGE THIS PATH ONLY TO RUN FOR EVALUATION\n",
    "testingPath = 'C:/Users/Jonny Lake/Documents/418/Lego_dataset_2/Lego_dataset_2/testing'\n",
    "#testingPath = 'C:/Users/Jonny Lake/Documents/418/testing'\n",
    "# call testing function and assign the outputs to variable 'test'\n",
    "test = testing(testingPath, classifier)"
   ]
  },
  {
   "cell_type": "code",
   "execution_count": null,
   "metadata": {},
   "outputs": [],
   "source": []
  }
 ],
 "metadata": {
  "interpreter": {
   "hash": "38b9b9f23139d58be4bde31bef7a7cb47c8a870462e9686a76b1a4376127d16d"
  },
  "kernelspec": {
   "display_name": "Python 3",
   "language": "python",
   "name": "python3"
  },
  "language_info": {
   "codemirror_mode": {
    "name": "ipython",
    "version": 3
   },
   "file_extension": ".py",
   "mimetype": "text/x-python",
   "name": "python",
   "nbconvert_exporter": "python",
   "pygments_lexer": "ipython3",
   "version": "3.8.8"
  },
  "metadata": {
   "interpreter": {
    "hash": "986ad9c0c471795a43b9c69cf8d38ff8537185abebc6c5bba103315d60b59ff4"
   }
  }
 },
 "nbformat": 4,
 "nbformat_minor": 2
}
