{
 "cells": [
  {
   "cell_type": "code",
   "execution_count": 4,
   "metadata": {},
   "outputs": [],
   "source": [
    "# python library references\n",
    "from PIL import Image\n",
    "import numpy as np\n",
    "from sklearn.multiclass import OneVsRestClassifier\n",
    "from sklearn.svm import LinearSVC\n",
    "from sklearn.metrics import accuracy_score\n",
    "import pandas as pd\n",
    "import os"
   ]
  },
  {
   "cell_type": "code",
   "execution_count": 5,
   "metadata": {},
   "outputs": [],
   "source": [
    "def training(folder): # function for training the model\n",
    "    # initialize training set greyscale image array\n",
    "    x_train = []\n",
    "    # initialize training set image classes\n",
    "    y_train = []\n",
    "\n",
    "    # for each image in the specified 'folder path', convert to greyscale and read in training classification\n",
    "    for filename in os.listdir(folder):\n",
    "        # read in image, convert to array, convert to greyscale\n",
    "        img = np.array(Image.open(os.path.join(folder,filename)).convert('L').resize((512,512)))\n",
    "\n",
    "        # classification legend: circle - 1, rectangle - 2, square - 3\n",
    "        # if filename includes 'cir' append classification 1 to the training class array\n",
    "        if \"cir\" in filename:\n",
    "            y_train = np.append(y_train,1)\n",
    "        \n",
    "        # if filename includes 'rec' append classification 2 to the training class array\n",
    "        if \"rec\" in filename:\n",
    "            y_train = np.append(y_train,2)\n",
    "\n",
    "        # if filename includes 'squ' append classification 3 to the training class array\n",
    "        if \"squ\" in filename:\n",
    "            y_train = np.append(y_train,3)\n",
    "\n",
    "        # append each greyscale image into an array of arrays\n",
    "        if img.all() is not None:\n",
    "            x_train.append(img)\n",
    "    \n",
    "    # initialize training class array as a numpy array\n",
    "    y_train = np.array(y_train)\n",
    "\n",
    "    # initialize training image array as a numpy array\n",
    "    x_train = np.array(x_train)\n",
    "    # read the number of samples and dimensions of pixels from the shape of the training image array \n",
    "    nsamples, nx, ny = x_train.shape\n",
    "    # reshape and flatten the training image array\n",
    "    x_train = x_train.reshape((nsamples,nx*ny))\n",
    "\n",
    "    # fit the classifier using the training image array and the training class array\n",
    "    # predict classes using the testing image array\n",
    "    classifier = OneVsRestClassifier(LinearSVC(random_state=0,C=10000,class_weight=\"balanced\", max_iter=250),n_jobs=3).fit(x_train, y_train)\n",
    "    # print confusion matrix for training set\n",
    "    print(\"Confusion Matrix:\")\n",
    "    print(pd.crosstab(y_train,y_train,rownames=['Predicted Y'],colnames=['Training Y']))\n",
    "    # print accuracy for training set\n",
    "    print(\"Accuracy:\", accuracy_score(y_train,y_train)*100, \"%\")\n",
    "\n",
    "    # return x_train and y_train\n",
    "    return x_train, y_train, classifier\n"
   ]
  },
  {
   "cell_type": "code",
   "execution_count": 6,
   "metadata": {},
   "outputs": [],
   "source": [
    "def testing(folder, classifier): # function for testing the model\n",
    "        # initialize test set greyscale image array\n",
    "        x_test = []\n",
    "        # initialize test set image classification array\n",
    "        y_pred = []\n",
    "\n",
    "        # for each image in the specified 'folder path', convert to greyscale and read in training classification\n",
    "        for filename in os.listdir(folder):\n",
    "            # read in image, convert to array, convert to greyscale\n",
    "            img = np.array(Image.open(os.path.join(folder,filename)).convert('L').resize((512,512)))\n",
    "\n",
    "            # if filename includes 'cir' append classification 1 to the training class array\n",
    "            if \"cir\" in filename:\n",
    "                y_pred = np.append(y_pred, 1)\n",
    "\n",
    "            # if filename includes 'rec' append classification 2 to the training class array\n",
    "            elif \"rec\" in filename:\n",
    "                y_pred = np.append(y_pred, 2)\n",
    "            \n",
    "            # if filename includes 'squ' append classification 3 to the training class array\n",
    "            elif \"squ\" in filename:\n",
    "                y_pred = np.append(y_pred, 3)\n",
    "\n",
    "            # append each greyscale image into an array of arrays\n",
    "            if img is not None:\n",
    "                x_test.append(img)\n",
    "\n",
    "        # initialize testing image array as a numpy array\n",
    "        x_test = np.array(x_test)\n",
    "        # read the number of samples and dimensions of pixels from the shape of the testing image array \n",
    "        nsamples2, nx2, ny2 = x_test.shape\n",
    "        # reshape and flatten the testing image array\n",
    "        x_test = x_test.reshape((nsamples2,nx2*ny2))\n",
    "        # evaluate the test set and create test image classification array, y_test\n",
    "        y_test = classifier.predict(x_test)\n",
    "        # print confusion matrix for test set\n",
    "        print(\"Confusion Matrix:\")\n",
    "        print(pd.crosstab(y_pred,y_test,rownames=['Predicted Y'],colnames=['Test Y']))\n",
    "        # print accuracy for test set\n",
    "        print(\"Accuracy:\", accuracy_score(y_pred,y_test)*100, \"%\")\n",
    "    \n",
    "        return y_pred, y_test"
   ]
  },
  {
   "cell_type": "code",
   "execution_count": 7,
   "metadata": {},
   "outputs": [
    {
     "name": "stdout",
     "output_type": "stream",
     "text": [
      "Confusion Matrix:\n",
      "Training Y   1.0  2.0  3.0\n",
      "Predicted Y               \n",
      "1.0           18    0    0\n",
      "2.0            0   18    0\n",
      "3.0            0    0   18\n",
      "Accuracy: 100.0 %\n"
     ]
    }
   ],
   "source": [
    "# set folder path for training images, CHANGE THIS PATH ONLY TO RUN FOR EVALUATION\n",
    "trainingPath = 'D:/Fourth Year/ENGR 418/project/Lego_dataset_2/Lego_dataset_2/training'\n",
    "# call training function and assign the outputs to variable 'train'\n",
    "train = training(trainingPath)\n",
    "# assign outputs of train to their respective variables\n",
    "x_train = train[0]\n",
    "y_train = train[1]\n",
    "classifier = train[2]"
   ]
  },
  {
   "cell_type": "code",
   "execution_count": 8,
   "metadata": {},
   "outputs": [
    {
     "name": "stdout",
     "output_type": "stream",
     "text": [
      "Confusion Matrix:\n",
      "Test Y       1.0  2.0  3.0\n",
      "Predicted Y               \n",
      "1.0           11    0    7\n",
      "2.0            0   17    1\n",
      "3.0            1    0   17\n",
      "Accuracy: 83.33333333333334 %\n"
     ]
    }
   ],
   "source": [
    "# set folder path for testing images, CHANGE THIS PATH ONLY TO RUN FOR EVALUATION\n",
    "testingPath = 'D:/Fourth Year/ENGR 418/project/Lego_dataset_2/Lego_dataset_2/testing'\n",
    "# call testing function and assign the outputs to variable 'test'\n",
    "test = testing(testingPath, classifier)"
   ]
  },
  {
   "cell_type": "code",
   "execution_count": null,
   "metadata": {},
   "outputs": [],
   "source": []
  }
 ],
 "metadata": {
  "kernelspec": {
   "display_name": "Python 3",
   "language": "python",
   "name": "python3"
  },
  "language_info": {
   "codemirror_mode": {
    "name": "ipython",
    "version": 3
   },
   "file_extension": ".py",
   "mimetype": "text/x-python",
   "name": "python",
   "nbconvert_exporter": "python",
   "pygments_lexer": "ipython3",
   "version": "3.8.8"
  },
  "metadata": {
   "interpreter": {
    "hash": "986ad9c0c471795a43b9c69cf8d38ff8537185abebc6c5bba103315d60b59ff4"
   }
  }
 },
 "nbformat": 4,
 "nbformat_minor": 2
}
